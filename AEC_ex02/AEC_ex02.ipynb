{
 "cells": [
  {
   "cell_type": "markdown",
   "metadata": {},
   "source": [
    "**Universidade Federal do Rio Grande do Sul**  \n",
    "Departamento de Engenharia Civil (DECIV)  \n",
    "ENG01007 - Análise Estrutural por Computador  \n",
    "*prof. Felipe Schaedler de Almeida*\n",
    "\n",
    "---"
   ]
  },
  {
   "cell_type": "code",
   "execution_count": 1,
   "metadata": {},
   "outputs": [],
   "source": [
    "#Importando os módulos do Python necessários para esse notebook.\n",
    "from math import * #módulo com funções matemáticas\n",
    "import numpy as np #módulo para operar com arrays\n",
    "import AEC_ex02 as aec #módulo com funções necessárias para este notebook\n",
    "import procedimentos as pmm #procedimentos básicos dos métodos matriciais\n",
    "import matplotlib.pyplot as plt #módulo para criação de gráficos\n",
    "import time #módulo com funções relacionados ao tempo\n",
    "\n",
    "%matplotlib inline"
   ]
  },
  {
   "cell_type": "markdown",
   "metadata": {},
   "source": [
    "# Exemplo: Análise de uma treliça plana pelo MRD\n",
    "\n",
    "Resolução dos exercícios 3.4 e 3.5 do livro *Matrix Structural Analysis 2ed* \n",
    "\n",
    "<img src=\"AEC_ex02_modelo.png\" alt=\"Estrutura do exemplo 3.4 e 3.5\" style=\"width:400px\">"
   ]
  },
  {
   "cell_type": "markdown",
   "metadata": {},
   "source": [
    "Dados do problema (forças em kN e comprimentos em mm):"
   ]
  },
  {
   "cell_type": "code",
   "execution_count": 2,
   "metadata": {},
   "outputs": [],
   "source": [
    "B_exemplo = 5.0e3 #mm\n",
    "ang_exemplo = radians(60.0)\n",
    "\n",
    "x_a = 0.0\n",
    "z_a = 0.0\n",
    "x_b = B_exemplo\n",
    "z_b = 0.0\n",
    "x_c = B_exemplo\n",
    "z_c = B_exemplo*tan(ang_exemplo)\n",
    "x_d = 2*B_exemplo\n",
    "z_d = z_c\n",
    "\n",
    "A_ab_cd_exemplo = 10.e3 #mm²\n",
    "A_ac_bc_bd_exemplo = 15.e3 #mm²\n",
    "E_exemplo = 200 #kN/mm²\n",
    "\n",
    "F_d_ang = radians(-45.0)\n",
    "F_d_intensidade = 400 #kN\n"
   ]
  },
  {
   "cell_type": "markdown",
   "metadata": {},
   "source": [
    "### Dados gerais da análise de treliças planas (T2D)"
   ]
  },
  {
   "cell_type": "code",
   "execution_count": 3,
   "metadata": {},
   "outputs": [],
   "source": [
    "num_gdl_no = 2 #número de gdl por nó \n",
    "num_nos_el = 2 #número de nós por elemento\n",
    "dim_espaco = 2 #número de dimensões do espaço no problema (2D)\n",
    "num_gdl_el = num_nos_el * num_gdl_no #número de gdl por elemento\n"
   ]
  },
  {
   "cell_type": "markdown",
   "metadata": {},
   "source": [
    "## Dados do problema (em arrays):\n",
    "Dados de entrada em arrays para aplicação no *procedimento geral* do método da rigidez direta\n",
    "\n",
    "<img src=\"AEC_ex02_modelo+discreto.png\" alt=\"Numeração dos nós e elementos na estrutura do exemplo 3.4 e 3.5\" style=\"width:700px\">"
   ]
  },
  {
   "cell_type": "code",
   "execution_count": 4,
   "metadata": {},
   "outputs": [],
   "source": [
    "#materiais:\n",
    "mat1 = aec.Material(E_exemplo,0.0,nome='Matrial do exemplo 02')\n",
    "\n",
    "#seções transversais (adotando I2=I3=J=1 em todas):\n",
    "sec = list()\n",
    "sec.append(aec.Secao(mat1, A_ab_cd_exemplo,1,1,1,nome='seção das barras ab e cd'))#barras ab e cd\n",
    "sec.append(aec.Secao(mat1, A_ac_bc_bd_exemplo,1,1,1,nome='seção das barras ac,  bc e bd')) #barras ac, bc, bd\n",
    "\n",
    "#Nós: Coordenadas e apoios-----------------\n",
    "num_nos = 4 #número de nós da estrutura\n",
    "#Nós - coordenadas:\n",
    "coor_no = np.zeros((num_nos,dim_espaco)) #inicia a array das coordenadas com zeros\n",
    "coor_no[0,:] = [x_a,z_a]\n",
    "coor_no[1,:] = [x_b,z_b]\n",
    "coor_no[2,:] = [x_c,z_c]\n",
    "coor_no[3,:] = [x_d,z_d]\n",
    "\n",
    "#Elementos:\n",
    "num_els = 5 #Número de elementos da estrutura\n",
    "#Elementos - conectiviades:\n",
    "con_el = np.zeros((num_els,num_nos_el),dtype=int) #inicia uma array de inteiros para guardar as conectividades dos elementos\n",
    "con_el[0,:] = [0,1]\n",
    "con_el[1,:] = [2,3]\n",
    "con_el[2,:] = [0,2]\n",
    "con_el[3,:] = [1,2]\n",
    "con_el[4,:] = [1,3]\n",
    "\n",
    "#Elementos - seções:\n",
    "sec_el = num_els*[None] #incia uma lista com elementos vazios para guardar as seções dos elementos\n",
    "sec_el[0] = sec_el[1] = sec[0]\n",
    "sec_el[2] = sec_el[3] = sec_el[4] = sec[1]\n",
    "\n",
    "#condições de contorno e carregamento:\n",
    "\n",
    "#Nós - apoios:\n",
    "gdlr_no = num_nos*[[]] #inicia uma lista com elementos vazios para armazenar os gdlr dos nós\n",
    "gdlr_no[0] = [0,1]\n",
    "gdlr_no[1] = [1]\n",
    "\n",
    "#Nós - forças:\n",
    "p_no = np.zeros((num_nos,num_gdl_no)) #inicia a array das forças nodais com zeros\n",
    "p_no[3,:] = [ F_d_intensidade * cos(F_d_ang) , F_d_intensidade * sin(F_d_ang) ]\n"
   ]
  },
  {
   "cell_type": "markdown",
   "metadata": {},
   "source": [
    "## Procedimento geral do Método da Rigidez Direta para análise de treliça"
   ]
  },
  {
   "cell_type": "markdown",
   "metadata": {},
   "source": [
    "### 1) Cálculos preliminares"
   ]
  },
  {
   "cell_type": "markdown",
   "metadata": {},
   "source": [
    "#### 1.1) Cálculo do número total de gdl do problema;"
   ]
  },
  {
   "cell_type": "code",
   "execution_count": 5,
   "metadata": {},
   "outputs": [],
   "source": [
    "#Número total de gdl da estrutura\n",
    "num_gdl_global = num_nos * num_gdl_no"
   ]
  },
  {
   "cell_type": "markdown",
   "metadata": {},
   "source": [
    "#### 1.2) Definição dos gdl de cada nó:\n",
    "\n",
    "- Os gdl são numerados segundo a ordem crescente da numeração dos nós.\n",
    "- As translações na $u_{xi}$ e $u_{zi}$ são o primeiro e segundo, respectivametne, gdl de cada nó $i$.\n",
    "- Os gdl são agrupados em gdl livres (superíndice $F$) e de apoio (superíndice $S$), de forma que o vetor de deslocamentos pode ser escrito como: $$ \\boldsymbol{d} = \\begin{Bmatrix} \\boldsymbol{d}^{F} \\\\ \\boldsymbol{d}^{S} \\end{Bmatrix}$$\n",
    "\n",
    "e o sistema glboal de equações fica:  \n",
    "  \n",
    "    \n",
    "$$ \\begin{bmatrix} \\boldsymbol{K}^{FF} & \\boldsymbol{K}^{FS} \\\\ \\boldsymbol{K}^{SF} & \\boldsymbol{K}^{SS} \\end{bmatrix} \\begin{Bmatrix} \\boldsymbol{d}^{F} \\\\ \\boldsymbol{d}^{S} \\end{Bmatrix} = \\begin{Bmatrix} \\boldsymbol{p}^{F} \\\\ \\boldsymbol{p}^{S} \\end{Bmatrix}$$\n",
    "\n",
    "\n",
    "<img src=\"AEC_ex02_discreto+gdl.png\" alt=\"Numeração dos gdl na estrutura do exemplo 3.4 e 3.5\" style=\"width:900px\">"
   ]
  },
  {
   "cell_type": "code",
   "execution_count": 6,
   "metadata": {},
   "outputs": [],
   "source": [
    "#atribuição dos gdl dos nós    \n",
    "igdl_no, (num_gdl_F, num_gdl_S) = pmm.igdl_FS(num_gdl_no,gdlr_no)"
   ]
  },
  {
   "cell_type": "code",
   "execution_count": 7,
   "metadata": {},
   "outputs": [
    {
     "name": "stdout",
     "output_type": "stream",
     "text": [
      " Número total de gdls: 8\n",
      " Número total de gdls livres: 5\n",
      " Número total de gdls restritos: 3\n",
      "\n",
      " Índice global dos gdl de cada nó:\n",
      " no0 :[5 6]\n",
      " no1 :[0 7]\n",
      " no2 :[1 2]\n",
      " no3 :[3 4]\n"
     ]
    }
   ],
   "source": [
    "#Impressão dos gdl dos nós==================================================================================\n",
    "print(' Número total de gdls:', num_gdl_global)\n",
    "print(' Número total de gdls livres:', num_gdl_F)\n",
    "print(' Número total de gdls restritos:', num_gdl_S)\n",
    "print('\\n Índice global dos gdl de cada nó:')\n",
    "for ino in range(num_nos):\n",
    "    print(f' no{ino} :{igdl_no[ino]}')"
   ]
  },
  {
   "cell_type": "markdown",
   "metadata": {},
   "source": [
    "### 2) Formação do sistema global de equações:"
   ]
  },
  {
   "cell_type": "markdown",
   "metadata": {},
   "source": [
    "#### 2.1) Cálculo da matriz de rigidez dos elementos ($\\boldsymbol{K}_e$) e montagem da matriz de rigidez global da estrutura ($\\boldsymbol{K}$):\n",
    "- Cada termo $K_{ij}$ da matriz de rigidez global $\\boldsymbol{K}$ relaciona a força externa $p_i$ na direção do gdl global $i$ ao deslocamento generalizado ($d_j$) na direção do gdl $j$.\n",
    "- Os termos são obtidos pela contribuição de cada elemento ($e$) que se conecta aos gdl $i$ e $j$:\n",
    "  $K_{ij} = \\sum_e K_{ij}^{(e)}$ \n",
    "\n"
   ]
  },
  {
   "cell_type": "code",
   "execution_count": 13,
   "metadata": {
    "scrolled": false
   },
   "outputs": [
    {
     "data": {
      "image/png": "[encoded data removed]",
      "text/plain": [
       "<Figure size 1080x1080 with 1 Axes>"
      ]
     },
     "metadata": {
      "needs_background": "light"
     },
     "output_type": "display_data"
    }
   ],
   "source": [
    "#inciando a matriz de rigidez global com zeros\n",
    "K_global = np.zeros( (num_gdl_global, num_gdl_global) )\n",
    "\n",
    "##figura para visualização da matriz de rigidez global do modelo\n",
    "fig_K_global, ax_K_global = plt.subplots(figsize=(15,15))\n",
    "from IPython import display\n",
    "\n",
    "for iel in range(num_els):\n",
    "    \n",
    "    #índice dos nós do elemento\n",
    "    noI, noJ = con_el[iel]\n",
    "    \n",
    "    #coordenadas dos nós do elemento\n",
    "    rI, rJ = coor_no[ [noI, noJ] ]\n",
    "    #rI = coor_no[noI]\n",
    "    #rJ = coor_no[noJ]\n",
    "    \n",
    "    #comprimento e ângulo do elemento\n",
    "    l_el , phi_el = aec.T2D_L_phi(rI, rJ)\n",
    "    \n",
    "    #cálculo da matriz de rigidez dos elementos (no sistema global)\n",
    "    K_el = aec.T2D_K_global_phi(sec_el[iel], l_el, phi_el)\n",
    "    \n",
    "    #índice global dos gdl do elemento\n",
    "    igdl_el = list(igdl_no[noI]) + list(igdl_no[noJ])\n",
    "\n",
    "    #adicionar os coeficientes de rigidez do elemento à matriz global do modelo\n",
    "    pmm.espalhar(K_el, K_global, igdl_el)\n",
    "    \n",
    "    #motra a figura com o mapa de cores para os elementos da matriz de rigidez global\n",
    "    ax_K_global.cla()\n",
    "    #ax_K_global.matshow(K_global, cmap=plt.cm.Blues)\n",
    "    ax_K_global.matshow(K_global, cmap=plt.cm.cool)\n",
    "    for i_linha in range(num_gdl_global):\n",
    "        for j_coluna in range(num_gdl_global):\n",
    "            coef_ij = \"%.2f\" % K_global[i_linha,j_coluna]\n",
    "            ax_K_global.text(i_linha, j_coluna, coef_ij, va='center', ha='center')\n",
    "        \n",
    "    print(f'iel= 0-{iel}')\n",
    "    display.display(plt.gcf())\n",
    "    time.sleep(2.0)\n",
    "    display.clear_output(wait=True)\n",
    "    "
   ]
  },
  {
   "cell_type": "code",
   "execution_count": null,
   "metadata": {},
   "outputs": [],
   "source": [
    "#Impressão da matriz de rigidez global =============================================================\n",
    "with np.printoptions(precision=3,linewidth=100,suppress=True):\n",
    "     print('\\n K global: \\n',K_global)"
   ]
  },
  {
   "cell_type": "markdown",
   "metadata": {},
   "source": [
    "#### 2.2) Formação do vetor de forças externas nodais ($\\boldsymbol{p}$)"
   ]
  },
  {
   "cell_type": "code",
   "execution_count": null,
   "metadata": {},
   "outputs": [],
   "source": [
    "P_global = np.zeros(num_gdl_global)\n",
    "for p, ig in zip(p_no,igdl_no):\n",
    "    P_global[ ig ] += p[:]"
   ]
  },
  {
   "cell_type": "code",
   "execution_count": null,
   "metadata": {},
   "outputs": [],
   "source": [
    "#Impressão do vetor de forças externas\n",
    "with np.printoptions(precision=3,linewidth=100):\n",
    "    print('\\n P global: \\n',P_global)"
   ]
  },
  {
   "cell_type": "markdown",
   "metadata": {},
   "source": [
    "### 3) Cálculo dos deslocamentos nodais pela solução do sistema global de equações\n",
    "\n",
    "Os deslocamentos livres $\\boldsymbol{d}^{F}$ são calculados resolvendo o sistema de equações reduzido \n",
    "$$ \\boldsymbol{K}^{FF} \\boldsymbol{d}^{F} = \\boldsymbol{p}^{F}$$"
   ]
  },
  {
   "cell_type": "code",
   "execution_count": null,
   "metadata": {},
   "outputs": [],
   "source": [
    "d = np.zeros(num_gdl_global) #vetor de deslocamentos nodias (total)\n",
    "\n",
    "d_F = d[:num_gdl_F] #deslocamentos livres (aponta para o trecho de d)\n",
    "P_F = P_global[:num_gdl_F] #forças nodais nos gdl livres\n",
    "K_FF = K_global[:num_gdl_F,:num_gdl_F] #coeficientes de rigides associando os gdl livres\n",
    "\n",
    "#solução do sistema de equações\n",
    "d_F[:] =  np.linalg.solve(K_FF,P_F)\n",
    "\n",
    "#obs: d_F[:] deve ser usado para apontar para as posições dos gdl livres no vetor d (que armazena os resultados)"
   ]
  },
  {
   "cell_type": "code",
   "execution_count": null,
   "metadata": {},
   "outputs": [],
   "source": [
    "print(d)"
   ]
  },
  {
   "cell_type": "code",
   "execution_count": null,
   "metadata": {},
   "outputs": [],
   "source": [
    "#Impressão dos deslocamentos de cada nó\n",
    "with np.printoptions(precision=3,linewidth=100):\n",
    "    print('\\n Deslocamentos nodais: ')\n",
    "    for no in range(num_nos):\n",
    "        print('no=',no,', d=',d[igdl_no[no,:]])\n"
   ]
  },
  {
   "cell_type": "markdown",
   "metadata": {},
   "source": [
    "### 4) Cálculo das quantidades de interesse com base nos deslocamentos nodais:"
   ]
  },
  {
   "cell_type": "markdown",
   "metadata": {},
   "source": [
    "#### 4.1) Cálculo das reações de apoio nos gdl impedidos:  \n",
    "- As reações de apoio são obtidas por: $$ R = \\boldsymbol{K}^{SF} \\boldsymbol{d}^{F}- \\boldsymbol{p}^{S}$$"
   ]
  },
  {
   "cell_type": "code",
   "execution_count": null,
   "metadata": {},
   "outputs": [],
   "source": [
    "K_SF = K_global[-num_gdl_S:,:-num_gdl_S]\n",
    "P_S = P_global[-num_gdl_S:]\n",
    "Reacoes = K_SF @ d_F - P_S"
   ]
  },
  {
   "cell_type": "code",
   "execution_count": null,
   "metadata": {},
   "outputs": [],
   "source": [
    "#Impressão das reações\n",
    "nome_reacao = ['fx','fz']\n",
    "print('\\n Reações: ')    \n",
    "for ino, il in enumerate(gdlr_no):\n",
    "    if len(il) == 0: continue\n",
    "    ig = igdl_no[ino,il]\n",
    "    print(f'no{ino} :',*[ f'{nome_reacao[il[j]]} = {Reacoes[ig[j]-num_gdl_F]} ,' for j in range(len(il)) ] )      "
   ]
  },
  {
   "cell_type": "markdown",
   "metadata": {},
   "source": [
    "#### 4.2) Cálculo das forças nas barras:\n",
    "- em cada elemento (e), a força axial pode ser obtida por:\n",
    "\n",
    "$ N = \\dfrac{EA}{L} \\left( u_{1j} - u_{1i} \\right)$\n",
    "\n",
    "- os deslocamento $u_1$ pode ser obtido pela projeção do vetor de transação $\\boldsymbol{u}=\\{ u_x, u_z\\} ^T$ no eixo da barra pelo produto escalar:\n",
    "\n",
    "$u_1 = \\boldsymbol{u} \\cdot \\boldsymbol{e}_1$\n",
    "\n",
    "onde  $\\boldsymbol{e}_1 = \\boldsymbol{r}_{IJ}/L$  é o  vetor unitário que dá a direção e do elemento.\n",
    "\n",
    "\n",
    "<img src=\"T2D_u1.png\" alt=\"Força na barra de treliça\" style=\"width:350px\">"
   ]
  },
  {
   "cell_type": "code",
   "execution_count": null,
   "metadata": {},
   "outputs": [],
   "source": [
    "N = np.zeros(num_els)\n",
    "\n",
    "for iel in range(num_els):\n",
    "    #índice dos nós do elemento\n",
    "    noI, noJ = con_el[iel]\n",
    "    \n",
    "    #coordenadas dos nós do elemento\n",
    "    rI, rJ = coor_no[ [noI, noJ]]\n",
    "    \n",
    "    #comprimento e vetor unitário na direção do noI para o noJ\n",
    "    l_el , e_1 = pmm.calc_L_u(rI, rJ)\n",
    "    \n",
    "    #deslocamentos dos nós segundo as coordenadas globais\n",
    "    u_I = d[igdl_no[noI]]\n",
    "    u_J = d[igdl_no[noJ]]\n",
    "    \n",
    "    # dos nós na direção do eixo local 1\n",
    "    u_1I = e_1 @ u_I\n",
    "    u_1J = e_1 @ u_J\n",
    "    \n",
    "    #força normal no elemento\n",
    "    N[iel] = sec_el[iel].EA * (u_1J - u_1I) / l_el\n",
    "             "
   ]
  },
  {
   "cell_type": "code",
   "execution_count": null,
   "metadata": {},
   "outputs": [],
   "source": [
    "#Impressão das forças nas barras\n",
    "print('\\n Forças nas barras:')        \n",
    "for iel in range(num_els):\n",
    "    print(f'el={iel} : N = ',N[iel])"
   ]
  }
 ],
 "metadata": {
  "kernelspec": {
   "display_name": "Python 3 (ipykernel)",
   "language": "python",
   "name": "python3"
  },
  "language_info": {
   "codemirror_mode": {
    "name": "ipython",
    "version": 3
   },
   "file_extension": ".py",
   "mimetype": "text/x-python",
   "name": "python",
   "nbconvert_exporter": "python",
   "pygments_lexer": "ipython3",
   "version": "3.9.7"
  },
  "vscode": {
   "interpreter": {
    "hash": "9c0888bca71d4ae6e5bf1fb7b2e783a8acf83c4246b1853712fde5ff62ca321d"
   }
  }
 },
 "nbformat": 4,
 "nbformat_minor": 4
}
