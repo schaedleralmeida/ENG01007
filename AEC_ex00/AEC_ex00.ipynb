{
 "cells": [
  {
   "cell_type": "markdown",
   "metadata": {},
   "source": [
    "**Universidade Federal do Rio Grande do Sul**  \n",
    "Departamento de Engenharia Civil (DECIV)  \n",
    "ENG01007 - Análise Estrutural por Computador  \n",
    "*prof. Felipe Schaedler de Almeida*\n",
    "\n",
    "---"
   ]
  },
  {
   "cell_type": "markdown",
   "metadata": {
    "id": "xGGcHgWkbKEN"
   },
   "source": [
    "# Exercício\n",
    "\n",
    "Esse exercício visa a prática de operações na linguagem Python.  \n",
    "\n",
    "São usados os módulos [`Numpy`](https://numpy.org/) e [`math`](https://docs.python.org/3/library/math.html).\n",
    "\n",
    "Os textos são escritos em [Markdown](https://pt.wikipedia.org/wiki/Markdown) e [$\\LaTeX$](https://pt.wikipedia.org/wiki/LaTeX), além de alguns comandos em [html](https://pt.wikipedia.org/wiki/HTML) para  inserção de imagens."
   ]
  },
  {
   "cell_type": "code",
   "execution_count": 1,
   "metadata": {
    "id": "p_G85rD2zo8z"
   },
   "outputs": [],
   "source": [
    "#Importando os módulos do Python necessários para esse notebook.\n",
    "from math import * #importando tudo do módulo \"math\"\n",
    "import numpy as np #importando o módulo numpy com o nome \"np\""
   ]
  },
  {
   "attachments": {
    "AEC_ex00_reta_a-b.png": {
     "image/png": "[encoded data removed]"
    }
   },
   "cell_type": "markdown",
   "metadata": {
    "id": "nolyBXrgznuq"
   },
   "source": [
    "## 1) Determine o comprimento do segmento de reta entre os pontos *a* e *b*\n",
    "\n",
    "![AEC_ex00_reta_a-b.png](attachment:AEC_ex00_reta_a-b.png)\n"
   ]
  },
  {
   "cell_type": "markdown",
   "metadata": {},
   "source": [
    "**Resposta:**\n",
    "\n",
    "Podemos obter o comprimento do segmento de reta calculando o módulo do vetor de posição relativa entre os pontos a e b ($\\|\\boldsymbol{r}_{ab}\\|$).\n",
    "\n",
    "<img src=\"AEC_ex00_posicao.png\" alt=\"Vetor posição\" style=\"width: 250px;\"/>\n",
    "\n",
    "O **vetor posição** de cada um dos pontos é dado por:\n",
    "\n",
    "$ \\boldsymbol{r}_{a} = \\begin{Bmatrix}    1.0 m \\\\ 1.0 m \\\\ 2.0 m\\end{Bmatrix} \\phantom{xxxx}$ e $ \\phantom{xxxx} \\boldsymbol{r}_{b} = \\begin{Bmatrix}     3.0  \\\\ 2.0 \\\\ 4.0 \\end{Bmatrix} \\text{[m]}$\n",
    "\n"
   ]
  },
  {
   "cell_type": "code",
   "execution_count": 3,
   "metadata": {
    "id": "iB_0mxZQa_Jz",
    "scrolled": true
   },
   "outputs": [
    {
     "name": "stdout",
     "output_type": "stream",
     "text": [
      "r_a = [1. 1. 2.]\n",
      "r_b = [3. 2. 4.]\n",
      "32.0\n"
     ]
    }
   ],
   "source": [
    "x_a = 1.0\n",
    "y_a = 1.0\n",
    "z_a = 2.0\n",
    "r_a = np.array([x_a,y_a,z_a]) #Vetor posição do ponto 'a' segundo o referencial global (eixos globais)\n",
    "\n",
    "\n",
    "r_b = np.array([3.0,2.0,4.0]) #Vetor posição do ponto 'b' segundo o referencial global\n",
    "\n",
    "#imprimindo para visualização\n",
    "print('r_a =', r_a)\n",
    "print('r_b =', r_b)"
   ]
  },
  {
   "cell_type": "markdown",
   "metadata": {
    "id": "NLFa6UK5z7ms"
   },
   "source": [
    "O **vetor de posição relativa** entre os pontos (*posição do ponto b em relação ao ponto a*) é dado por: $\\boldsymbol{r}_{ab} = \\boldsymbol{r}_{b} - \\boldsymbol{r}_{a}$"
   ]
  },
  {
   "cell_type": "code",
   "execution_count": 4,
   "metadata": {
    "colab": {
     "base_uri": "https://localhost:8080/"
    },
    "id": "sk51ByafciZM",
    "outputId": "7896f336-c5a6-4863-93e5-a91d22b99981"
   },
   "outputs": [
    {
     "name": "stdout",
     "output_type": "stream",
     "text": [
      "r_ab = [2. 1. 2.]\n",
      "ou, r_ab = [2. 1. 2.]\n"
     ]
    }
   ],
   "source": [
    "r_ab = r_b - r_a #operação com os arrays\n",
    "print('r_ab =',r_ab) \n",
    "\n",
    "print('ou, r_ab =', np.array([ r_b[0]-r_a[0] , r_b[1]-r_a[1] ,r_b[2]-r_a[2] ]) ) #operação com cada termo dos arrays "
   ]
  },
  {
   "cell_type": "markdown",
   "metadata": {
    "id": "z3z7mk0b26R4"
   },
   "source": [
    "Finalmente, o comprimento da reta pode ser calculado pelo módulo do vetor de posição relativa, dado por: $\\|\\boldsymbol{r}_{ab}\\| = \\sqrt{r_{abx}^2 + r_{aby}^2 + r_{abz}^2} $.\n",
    "\n",
    "O módulo do vetor pode ser calculado pela função `np.linalg.norm()` do submodulo  [*linalg*](https://numpy.org/doc/stable/reference/routines.linalg.html) da Numpy"
   ]
  },
  {
   "cell_type": "code",
   "execution_count": 6,
   "metadata": {
    "colab": {
     "base_uri": "https://localhost:8080/"
    },
    "id": "20clXSoweK5L",
    "outputId": "209fd095-3b08-4309-cbe6-2719759fe31d"
   },
   "outputs": [
    {
     "name": "stdout",
     "output_type": "stream",
     "text": [
      "módulo de r_ab= 3.0\n"
     ]
    }
   ],
   "source": [
    "#Cálculo do comprimento do segmento de reta que liga os pontos a e b pelo módulo do vetor r_ab\n",
    "norm_r_ab = np.linalg.norm(r_ab)    #cálculo do módulo (norma L2) de r_ab usando uma função do módulo linalg da Numpy\n",
    "print('módulo de r_ab=', norm_r_ab) #imprimindo para verificação"
   ]
  },
  {
   "cell_type": "markdown",
   "metadata": {
    "id": "tLt9SVCM96bQ"
   },
   "source": [
    "ou, pela implementação explícita da expressão apresentada acima"
   ]
  },
  {
   "cell_type": "code",
   "execution_count": 7,
   "metadata": {
    "colab": {
     "base_uri": "https://localhost:8080/"
    },
    "id": "LJIIQF5Y96o6",
    "outputId": "57f58090-fc77-4a3b-803e-bf200bfb25c5",
    "scrolled": false
   },
   "outputs": [
    {
     "name": "stdout",
     "output_type": "stream",
     "text": [
      "ou 3.0\n",
      "obs: r_ab**2 =  [4. 1. 4.]\n",
      "ou 3.0\n"
     ]
    }
   ],
   "source": [
    "#cálculo usando a função \"sum\" das arrays da Numpy e operação (elevado ao quadrado) termo a termo nos componentes do array\n",
    "print( 'ou', sqrt(np.sum(r_ab**2)))\n",
    "print('obs: r_ab**2 = ',r_ab**2 )\n",
    "#cálculo pela raiz da soma dos quadrados dos termos de r_ab\n",
    "print( 'ou', sqrt( r_ab[0]**2 + r_ab[1]**2 + r_ab[2]**2))\n"
   ]
  },
  {
   "cell_type": "markdown",
   "metadata": {},
   "source": [
    "> Obs: vale lembrar que o comprimento da reta poderia ser calculado usando diretamente as coordenadas das extremidades na expressão $l_{ab} = \\sqrt{ (x_b-x_a)^2 + (y_b-y_a)^2 + (z_b-z_a)^2}$\n",
    "\n",
    "\n"
   ]
  },
  {
   "cell_type": "markdown",
   "metadata": {
    "id": "qvf-VTCR0LNt"
   },
   "source": [
    "\n",
    "## 2) Determine as componentes da força $\\boldsymbol{f} \\,$ que são paralela ($\\boldsymbol{f}_{//ab}$) e perpendicular ($\\boldsymbol{f}_{\\bot ab}$) à reta que liga os pontos *a* e *b* :\n",
    "\n",
    "<img src=\"AEC_ex00_for%C3%A7a.png\" alt=\"Força no nó 'a'\" style=\"width:600px\">\n",
    "\n",
    "Considere o caso em que $f_x = 9$ N,  $f_y = 12$ N e  $f_z = 6$ N  \n",
    "\n"
   ]
  },
  {
   "cell_type": "markdown",
   "metadata": {},
   "source": [
    "**Resposta:** \n",
    "\n",
    " 1 - O vetor $\\boldsymbol{f}_{//ab}$ pode ser obtido por$\\boldsymbol{f}_{//ab} = \\|\\boldsymbol{f}_{//ab}\\| \\boldsymbol{u}_{ab} $, onde:\n",
    " \n",
    "   - $\\boldsymbol{u}_{ab}$ é o vetor unitário na direção da reta $\\overline{ab}$ (mesmo sentido de  $\\boldsymbol{r}_{ab}$). Pode ser obtido por: $\\boldsymbol{u}_{ab} = \\dfrac{\\boldsymbol{r}_{ab}}{ \\|\\boldsymbol{r}_{ab}\\|}$\n",
    "   \n",
    "   - $\\|\\boldsymbol{f}_{//ab}\\|$ é a projeção de $\\boldsymbol{f}$ na reta $\\overline{ab}$ e pode ser obtido pelo produto interno $\\|\\boldsymbol{f}_{//ab}\\| = \\boldsymbol{f}_{ab} \\cdot \\boldsymbol{u}_{ab}$\n",
    "\n",
    "2 - Como $\\boldsymbol{f} = \\boldsymbol{f}_{// ab} + \\boldsymbol{f}_{\\bot ab}$, $\\boldsymbol{f}_{\\bot ab}$ pode ser obtido por $\\boldsymbol{f}_{\\bot ab} = \\boldsymbol{f} - \\boldsymbol{f}_{//ab}$\n",
    "\n",
    "> *dica: use a função np.dot() para o produto interno de vetores*\n",
    "\n",
    "\n",
    "___\n",
    "*valores:*  \n",
    "$\\boldsymbol{f}_{//ab} =  \\begin{Bmatrix} 9.33333333 \\\\ 4.66666667 \\\\ 9.33333333 \\end{Bmatrix}$ e $\\boldsymbol{f}_{\\bot ab} =  \\begin{Bmatrix} -0.33333333 \\\\ 7.33333333 \\\\ -3.33333333 \\end{Bmatrix}$\n",
    " \n"
   ]
  },
  {
   "cell_type": "markdown",
   "metadata": {
    "id": "KApyqAPTnmQz"
   },
   "source": [
    "## 3) Determine o vetor de momento ($\\boldsymbol{m}_b$) da força $\\boldsymbol{f}$ em relação ao ponto *b*:"
   ]
  },
  {
   "cell_type": "markdown",
   "metadata": {},
   "source": [
    "**Resposta:** \n",
    "\n",
    "O vetor momento da força $\\boldsymbol{f}$ em relação ao ponto *b* pode ser determinado pelo produto vetorial $\\boldsymbol{m}_b = \\boldsymbol{r}_{ba} \\times \\boldsymbol{f}$, sendo $\\boldsymbol{r}_{ba} = - \\boldsymbol{r}_{ab}$.\n",
    "\n",
    "\n",
    "> *dica: use a função np.cross() para o produto vetorial*\n",
    "\n",
    "___\n",
    "*valores:*  \n",
    "\n",
    "$\\boldsymbol{m}_{b} =  \\begin{Bmatrix}  18 \\\\ -6 \\\\ -15 \\end{Bmatrix} \\text{[Nm]} \\quad$      e $\\quad \\| \\boldsymbol{m}_{b} \\| = 24.186773244895647$ Nm "
   ]
  }
 ],
 "metadata": {
  "colab": {
   "collapsed_sections": [],
   "name": "AEC_ex00.ipynb",
   "provenance": []
  },
  "kernelspec": {
   "display_name": "Python 3 (ipykernel)",
   "language": "python",
   "name": "python3"
  },
  "language_info": {
   "codemirror_mode": {
    "name": "ipython",
    "version": 3
   },
   "file_extension": ".py",
   "mimetype": "text/x-python",
   "name": "python",
   "nbconvert_exporter": "python",
   "pygments_lexer": "ipython3",
   "version": "3.9.7"
  }
 },
 "nbformat": 4,
 "nbformat_minor": 1
}
